{
 "metadata": {
  "language_info": {
   "codemirror_mode": {
    "name": "ipython",
    "version": 3
   },
   "file_extension": ".py",
   "mimetype": "text/x-python",
   "name": "python",
   "nbconvert_exporter": "python",
   "pygments_lexer": "ipython3",
   "version": "3.8.5-final"
  },
  "orig_nbformat": 2,
  "kernelspec": {
   "name": "python385jvsc74a57bd073e03da126b73bfff3642ec5261d56fa25c444ea595de51041687efaa60dda41",
   "display_name": "Python 3.8.5 64-bit (conda)"
  }
 },
 "nbformat": 4,
 "nbformat_minor": 2,
 "cells": [
  {
   "source": [
    "\n",
    "#Alfabeto y mensaje a cifrar/descifrar (Modificar datos inciales)\n",
    "\n",
    "alf=\"abcdefghijklmnñopqrstuvwxyzABCDEFGHIJKLMNÑOPQRSTUVWXYZ0123456789 ,.:-()\" #Alfabeto\n",
    "msj_cifrado=\"Mg3UYgdgd332qwgb8i1 gj wbggMTkHu,5\"\n",
    "ab = [47, 31] #clave de cifrado \n",
    "cifrar = False; #true si es cifrar, false si es descifrar"
   ],
   "cell_type": "code",
   "metadata": {},
   "execution_count": null,
   "outputs": []
  },
  {
   "cell_type": "code",
   "execution_count": null,
   "metadata": {},
   "outputs": [],
   "source": [
    "\n",
    "#Datos necesarios para el des/cifrado y donde los voy a guardar\n",
    "n_simb = len(alf) #modulo\n",
    "lineas = []"
   ]
  },
  {
   "cell_type": "code",
   "execution_count": null,
   "metadata": {},
   "outputs": [],
   "source": [
    "#Datos iniciales\n",
    "#Modifico el mensaje cambiando los \\n por doble espacio\n",
    "msj_cifrado = msj_cifrado.replace('\\r\\n', '  ') \n",
    "msj_cifrado = msj_cifrado.replace('\\n', '  ')\n",
    "msj_cifrado = msj_cifrado.replace('\\\\n', '  ') \n",
    "\n",
    "p = 1 #primera potencia\n",
    "a = pow(ab[0], p, n_simb)\n",
    "b = (ab[1]*p)"
   ]
  },
  {
   "cell_type": "code",
   "execution_count": null,
   "metadata": {},
   "outputs": [],
   "source": [
    "\n",
    "#Funcion de des/cifrado\n",
    "linea = \"\"\n",
    "for i in range(0, len(msj_cifrado)):\n",
    "\n",
    "    #Si es nueva linea\n",
    "    if(linea!=\"\" and linea[-1] ==\" \" and linea[-2] ==\" \"):\n",
    "        #Recalculo la clave de cifrado\n",
    "        p = p+1\n",
    "        a = pow(ab[0], p, n_simb)\n",
    "        b = (ab[1]*p % n_simb)\n",
    "\n",
    "        #Lo añado a la lista de lineas y vacio la linea\n",
    "        lineas.append(linea)\n",
    "        linea = \"\"\n",
    "\n",
    "    n = alf.index(msj_cifrado[i]) #Tomo la posicion en el alfabeto del caracter a cifrar/descifrar\n",
    "    if(cifrar):\n",
    "        new_n = ((a*n) + b)%n_simb\n",
    "    else:\n",
    "        new_n = ((pow(a, -1, n_simb)*n)%n_simb) - ((pow(a, -1, n_simb)*b)%n_simb)%n_simb #Calculo la nueva a^-1*c - a^-1*b\n",
    "\n",
    "    linea += alf[new_n] #Añado la letra descrifrada a la linea\n",
    "\n",
    "if(linea !=\"\"):\n",
    "    lineas.append(linea) #añado la ultima linea si no está vacía\n",
    "\n"
   ]
  },
  {
   "cell_type": "code",
   "execution_count": null,
   "metadata": {},
   "outputs": [],
   "source": [
    "#Imprimo el resultado\n",
    "print(*lineas, sep=\"\\n\")"
   ]
  }
 ]
}